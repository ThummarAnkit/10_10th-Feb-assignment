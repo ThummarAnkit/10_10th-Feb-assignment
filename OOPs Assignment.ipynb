{
 "cells": [
  {
   "cell_type": "markdown",
   "id": "1f09ad21",
   "metadata": {},
   "source": [
    "# Q1. Which function is used to open a file? What are the different modes of opening a file? Explain each mode of file opening."
   ]
  },
  {
   "cell_type": "markdown",
   "id": "4b0f0e91",
   "metadata": {},
   "source": [
    "__Ans :__<br>\n",
    "__open()__ function is used to open a file.<br><br>\n",
    "\n",
    "There are 6 access modes in python :<br>\n",
    "\n",
    "1. __Read Only (‘r’) :__ Open text file for reading. The handle is positioned at the beginning of the file. If the file does not exists, raises the I/O error. This is also the default mode in which a file is opened.<br>\n",
    "\n",
    "2. __Read and Write (‘r+’):__ Open the file for reading and writing. The handle is positioned at the beginning of the file. Raises I/O error if the file does not exist.<br>\n",
    "\n",
    "3. __Write Only (‘w’) :__ Open the file for writing. For the existing files, the data is truncated and over-written. The handle is positioned at the beginning of the file. Creates the file if the file does not exist.<br>\n",
    "\n",
    "4. __Write and Read (‘w+’) :__ Open the file for reading and writing. For an existing file, data is truncated and over-written. The handle is positioned at the beginning of the file.<br>\n",
    "\n",
    "5. __Append Only (‘a’):__ Open the file for writing. The file is created if it does not exist. The handle is positioned at the end of the file. The data being written will be inserted at the end, after the existing data.<br>\n",
    "\n",
    "6. __Append and Read (‘a+’) :__ Open the file for reading and writing. The file is created if it does not exist. The handle is positioned at the end of the file. The data being written will be inserted at the end, after the existing data."
   ]
  },
  {
   "cell_type": "markdown",
   "id": "06ad8e14",
   "metadata": {},
   "source": [
    "# Q2. Why close() function is used? Why is it important to close a file?"
   ]
  },
  {
   "cell_type": "markdown",
   "id": "a3d816fa",
   "metadata": {},
   "source": [
    "__Ans :__<br>\n",
    "The __close()__ method closes an open file. You should always close your files, in some cases, due to buffering, changes made to a file may not show until you close the file."
   ]
  },
  {
   "cell_type": "markdown",
   "id": "c55f029a",
   "metadata": {},
   "source": [
    "# Q3. Write a python program to create a text file. Write ‘I want to become a Data Scientist’ in that file. Then close the file. Open this file and read the content of the file."
   ]
  },
  {
   "cell_type": "code",
   "execution_count": 1,
   "id": "dd5e4a77",
   "metadata": {},
   "outputs": [
    {
     "name": "stdout",
     "output_type": "stream",
     "text": [
      "I want to become a Data Scientist\n"
     ]
    }
   ],
   "source": [
    "# Create the file and write to it\n",
    "with open(\"file.txt\", \"w\") as file:\n",
    "    file.write(\"I want to become a Data Scientist\")\n",
    "\n",
    "# Close the file\n",
    "file.close()\n",
    "\n",
    "# Open and read the file\n",
    "with open(\"file.txt\", \"r\") as file:\n",
    "    content = file.read()\n",
    "    print(content)\n"
   ]
  },
  {
   "cell_type": "markdown",
   "id": "c65c25b3",
   "metadata": {},
   "source": [
    "# Q4. Explain the following with python code: read(), readline() and readlines()."
   ]
  },
  {
   "cell_type": "markdown",
   "id": "e4f8604d",
   "metadata": {},
   "source": [
    "__Ans :__<br><br>\n",
    "\n",
    "__read()__ is a method in Python used to read the entire contents of a text file and return it as a string."
   ]
  },
  {
   "cell_type": "code",
   "execution_count": 2,
   "id": "7c7492a7",
   "metadata": {},
   "outputs": [
    {
     "name": "stdout",
     "output_type": "stream",
     "text": [
      "I want to become a Data Scientist\n"
     ]
    }
   ],
   "source": [
    "with open(\"file.txt\", \"r\") as file:\n",
    "    content = file.read()\n",
    "    print(content)"
   ]
  },
  {
   "cell_type": "markdown",
   "id": "208d654b",
   "metadata": {},
   "source": [
    "__readline()__ is a method in Python used to read a single line of a text file and return it as a string."
   ]
  },
  {
   "cell_type": "code",
   "execution_count": 3,
   "id": "a69ddfcf",
   "metadata": {},
   "outputs": [
    {
     "name": "stdout",
     "output_type": "stream",
     "text": [
      "I want to become a Data Scientist\n"
     ]
    }
   ],
   "source": [
    "with open(\"file.txt\", \"r\") as file:\n",
    "    line = file.readline()\n",
    "    while line:\n",
    "        print(line)\n",
    "        line = file.readline()"
   ]
  },
  {
   "cell_type": "markdown",
   "id": "abf638d0",
   "metadata": {},
   "source": [
    "__readlines()__ is a method in Python used to read all the lines of a text file and return them as a list of strings, where each element in the list represents a single line in the file."
   ]
  },
  {
   "cell_type": "code",
   "execution_count": 4,
   "id": "4ff4c3ac",
   "metadata": {},
   "outputs": [
    {
     "name": "stdout",
     "output_type": "stream",
     "text": [
      "I want to become a Data Scientist\n"
     ]
    }
   ],
   "source": [
    "with open(\"file.txt\", \"r\") as file:\n",
    "    lines = file.readlines()\n",
    "    for line in lines:\n",
    "        print(line)"
   ]
  },
  {
   "cell_type": "markdown",
   "id": "ad67bec3",
   "metadata": {},
   "source": [
    "# Q5. Explain why with statement is used with open(). What is the advantage of using with statement and open() together?"
   ]
  },
  {
   "cell_type": "markdown",
   "id": "833fe728",
   "metadata": {},
   "source": [
    "__Ans :__<br><br>\n",
    "\n",
    "In Python, the __'with'__ statement is used in conjunction with the __open()__ function to open a file and perform some operations on it. The with statement is used to ensure that the file is properly closed after the operations are finished, even if an error occurs during the execution of the operations.<br><br>\n",
    "\n",
    "The advantage of using the with statement and __open()__ together is that it helps to manage the resources and prevent resource leaks, as it automatically closes the file when the operations are finished. When a file is opened with the __open()__ function, it uses up system resources, and it's important to close the file once the operations are finished to free up those resources. If a file is not closed properly, it can lead to resource leaks and unexpected behavior in the program.<br><br>\n",
    "\n",
    "By using the __'with'__ statement, you don't have to worry about forgetting to close the file explicitly, as the __'with'__ statement takes care of that for you. The code inside the __'with'__ statement is executed, and when it finishes, the file is automatically closed. This makes your code more readable and helps to prevent bugs that might arise from forgetting to close a file.\n",
    "<br><br>\n",
    "\n",
    "Here's an example:\n"
   ]
  },
  {
   "cell_type": "code",
   "execution_count": 5,
   "id": "5abaf76e",
   "metadata": {},
   "outputs": [
    {
     "name": "stdout",
     "output_type": "stream",
     "text": [
      "I want to become a Data Scientist\n"
     ]
    }
   ],
   "source": [
    "with open(\"file.txt\", \"r\") as file:\n",
    "    content = file.read()\n",
    "    # Perform some operations on the file\n",
    "    print(content)\n",
    "\n",
    "# The file is automatically closed here, even if an error occurs\n"
   ]
  },
  {
   "cell_type": "code",
   "execution_count": null,
   "id": "97ebca07",
   "metadata": {},
   "outputs": [],
   "source": []
  },
  {
   "cell_type": "markdown",
   "id": "ba50b76b",
   "metadata": {},
   "source": [
    "# Q6. Explain the write() and writelines() functions. Give a suitable example."
   ]
  },
  {
   "cell_type": "markdown",
   "id": "b94f9cbd",
   "metadata": {},
   "source": [
    "__Ans :__<br>\n",
    "\n",
    "The __write()__ function in Python is used to write a string to a file. The string is written to the file as is, without any added newline characters.<br>\n",
    "\n",
    "Here's an example:"
   ]
  },
  {
   "cell_type": "code",
   "execution_count": 6,
   "id": "cb5a211f",
   "metadata": {},
   "outputs": [],
   "source": [
    "with open(\"file.txt\", \"w\") as file:\n",
    "    file.write(\"I want to become a Data Scientist\")\n",
    "\n",
    "#In this example, the string \"I want to become a Data Scientist\" is written to the file file.txt."
   ]
  },
  {
   "cell_type": "markdown",
   "id": "c60e4893",
   "metadata": {},
   "source": [
    "The __writelines()__ function in Python is used to write a sequence of strings to a file. The sequence can be a list, tuple, or any other iterable object. The strings are written to the file as is, without any added newline characters.<br>\n",
    "\n",
    "Here's an example:"
   ]
  },
  {
   "cell_type": "code",
   "execution_count": 7,
   "id": "16e41293",
   "metadata": {},
   "outputs": [
    {
     "data": {
      "text/plain": [
       "'In this example, the list of strings lines is written to the file file.txt. Each string in the list is written to a separate line in the file. Note that there are no newline characters added between the strings, so you may need to add them manually if desired.'"
      ]
     },
     "execution_count": 7,
     "metadata": {},
     "output_type": "execute_result"
    }
   ],
   "source": [
    "with open(\"file.txt\", \"w\") as file:\n",
    "    lines = [\"I want to become a Data Scientist\", \"Data Science is my passion\"]\n",
    "    file.writelines(lines)\n",
    "\n",
    "\"\"\"In this example, the list of strings lines is written to the file file.txt. Each string in the list is written to a separate line in the file. Note that there are no newline characters added between the strings, so you may need to add them manually if desired.\"\"\""
   ]
  },
  {
   "cell_type": "code",
   "execution_count": null,
   "id": "6b87a4b5",
   "metadata": {},
   "outputs": [],
   "source": []
  }
 ],
 "metadata": {
  "kernelspec": {
   "display_name": "Python 3 (ipykernel)",
   "language": "python",
   "name": "python3"
  },
  "language_info": {
   "codemirror_mode": {
    "name": "ipython",
    "version": 3
   },
   "file_extension": ".py",
   "mimetype": "text/x-python",
   "name": "python",
   "nbconvert_exporter": "python",
   "pygments_lexer": "ipython3",
   "version": "3.9.7"
  }
 },
 "nbformat": 4,
 "nbformat_minor": 5
}
